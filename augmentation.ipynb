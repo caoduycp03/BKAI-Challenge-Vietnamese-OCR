{
 "cells": [
  {
   "cell_type": "code",
   "execution_count": 1,
   "metadata": {},
   "outputs": [
    {
     "ename": "KeyboardInterrupt",
     "evalue": "",
     "output_type": "error",
     "traceback": [
      "\u001b[1;31m---------------------------------------------------------------------------\u001b[0m",
      "\u001b[1;31mKeyboardInterrupt\u001b[0m                         Traceback (most recent call last)",
      "\u001b[1;32md:\\bkai\\duy\\augmentation.ipynb Cell 1\u001b[0m line \u001b[0;36m1\n\u001b[1;32m----> <a href='vscode-notebook-cell:/d%3A/bkai/duy/augmentation.ipynb#W0sZmlsZQ%3D%3D?line=0'>1</a>\u001b[0m \u001b[39mfrom\u001b[39;00m \u001b[39mtorchvision\u001b[39;00m\u001b[39m.\u001b[39;00m\u001b[39mtransforms\u001b[39;00m \u001b[39mimport\u001b[39;00m ToTensor, Resize, Compose, RandomAffine, ColorJitter\n\u001b[0;32m      <a href='vscode-notebook-cell:/d%3A/bkai/duy/augmentation.ipynb#W0sZmlsZQ%3D%3D?line=1'>2</a>\u001b[0m \u001b[39mfrom\u001b[39;00m \u001b[39mPIL\u001b[39;00m \u001b[39mimport\u001b[39;00m Image\n\u001b[0;32m      <a href='vscode-notebook-cell:/d%3A/bkai/duy/augmentation.ipynb#W0sZmlsZQ%3D%3D?line=2'>3</a>\u001b[0m \u001b[39mimport\u001b[39;00m \u001b[39mnumpy\u001b[39;00m \u001b[39mas\u001b[39;00m \u001b[39mnp\u001b[39;00m\n",
      "File \u001b[1;32mc:\\Users\\caodu\\scoop\\apps\\python\\current\\Lib\\site-packages\\torchvision\\__init__.py:5\u001b[0m\n\u001b[0;32m      2\u001b[0m \u001b[39mimport\u001b[39;00m \u001b[39mwarnings\u001b[39;00m\n\u001b[0;32m      3\u001b[0m \u001b[39mfrom\u001b[39;00m \u001b[39mmodulefinder\u001b[39;00m \u001b[39mimport\u001b[39;00m Module\n\u001b[1;32m----> 5\u001b[0m \u001b[39mimport\u001b[39;00m \u001b[39mtorch\u001b[39;00m\n\u001b[0;32m      6\u001b[0m \u001b[39mfrom\u001b[39;00m \u001b[39mtorchvision\u001b[39;00m \u001b[39mimport\u001b[39;00m datasets, io, models, ops, transforms, utils\n\u001b[0;32m      8\u001b[0m \u001b[39mfrom\u001b[39;00m \u001b[39m.\u001b[39;00m\u001b[39mextension\u001b[39;00m \u001b[39mimport\u001b[39;00m _HAS_OPS\n",
      "File \u001b[1;32mc:\\Users\\caodu\\scoop\\apps\\python\\current\\Lib\\site-packages\\torch\\__init__.py:117\u001b[0m\n\u001b[0;32m    115\u001b[0m is_loaded \u001b[39m=\u001b[39m \u001b[39mFalse\u001b[39;00m\n\u001b[0;32m    116\u001b[0m \u001b[39mif\u001b[39;00m with_load_library_flags:\n\u001b[1;32m--> 117\u001b[0m     res \u001b[39m=\u001b[39m kernel32\u001b[39m.\u001b[39;49mLoadLibraryExW(dll, \u001b[39mNone\u001b[39;49;00m, \u001b[39m0x00001100\u001b[39;49m)\n\u001b[0;32m    118\u001b[0m     last_error \u001b[39m=\u001b[39m ctypes\u001b[39m.\u001b[39mget_last_error()\n\u001b[0;32m    119\u001b[0m     \u001b[39mif\u001b[39;00m res \u001b[39mis\u001b[39;00m \u001b[39mNone\u001b[39;00m \u001b[39mand\u001b[39;00m last_error \u001b[39m!=\u001b[39m \u001b[39m126\u001b[39m:\n",
      "\u001b[1;31mKeyboardInterrupt\u001b[0m: "
     ]
    }
   ],
   "source": [
    "from torchvision.transforms import ToTensor, Resize, Compose, RandomAffine, ColorJitter\n",
    "from PIL import Image\n",
    "import numpy as np\n",
    "import cv2\n",
    "affine = RandomAffine(degrees=(-5, 5),\n",
    "                    scale=(0.5, 1.05), shear=10)\n",
    "jitter = ColorJitter(brightness=0.5, \n",
    "            contrast=0.5,\n",
    "            saturation=0.5,\n",
    "            hue=0.5)\n",
    "\n",
    "image = Image.open(r'data\\new_train\\train_img_122.jpg').convert('L')\n",
    "open_cv_image1 = np.array(image)\n",
    "cv2.imshow('image', open_cv_image1)\n",
    "image = affine(image)\n",
    "image = jitter(image)\n",
    "cv2.waitKey(0)\n",
    "\n",
    "open_cv_image2 = np.array(image) \n",
    "\n",
    "cv2.imshow('image', open_cv_image2)\n",
    "cv2.waitKey(0)\n",
    "\n"
   ]
  }
 ],
 "metadata": {
  "kernelspec": {
   "display_name": "Python 3",
   "language": "python",
   "name": "python3"
  },
  "language_info": {
   "codemirror_mode": {
    "name": "ipython",
    "version": 3
   },
   "file_extension": ".py",
   "mimetype": "text/x-python",
   "name": "python",
   "nbconvert_exporter": "python",
   "pygments_lexer": "ipython3",
   "version": "3.11.1"
  },
  "orig_nbformat": 4
 },
 "nbformat": 4,
 "nbformat_minor": 2
}
